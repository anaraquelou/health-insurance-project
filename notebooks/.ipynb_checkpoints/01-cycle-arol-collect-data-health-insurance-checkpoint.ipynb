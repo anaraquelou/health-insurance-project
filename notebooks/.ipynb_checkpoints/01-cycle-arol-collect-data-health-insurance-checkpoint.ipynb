{
 "cells": [
  {
   "cell_type": "markdown",
   "id": "d0593071",
   "metadata": {},
   "source": [
    "# Collecting data with SQL"
   ]
  },
  {
   "cell_type": "code",
   "execution_count": 2,
   "id": "0007f16e",
   "metadata": {
    "ExecuteTime": {
     "end_time": "2023-03-07T15:02:26.000218Z",
     "start_time": "2023-03-07T15:02:25.496160Z"
    }
   },
   "outputs": [],
   "source": [
    "# SQL Alchemy - cria database de todos os bancos de dados\n",
    "\n",
    "# psycopg2 - apenas de Postgres\n",
    "\n",
    "import psycopg2 as pg2\n",
    "import pandas as pd\n",
    "\n",
    "#nunca coloque suas credenciais no notebook: usar ginger?\n",
    "#credentials\n",
    "host = 'comunidade-ds-postgres.c50pcakiuwi3.us-east-1.rds.amazonaws.com'\n",
    "port = 5432\n",
    "database = 'comunidadedsdb'\n",
    "user = 'member'\n",
    "pwd = 'cdspa'"
   ]
  },
  {
   "cell_type": "code",
   "execution_count": 3,
   "id": "f904edb0",
   "metadata": {
    "ExecuteTime": {
     "end_time": "2023-03-07T15:02:27.561920Z",
     "start_time": "2023-03-07T15:02:26.226640Z"
    }
   },
   "outputs": [],
   "source": [
    "#conexão com o banco de dados\n",
    "conn = pg2.connect( \n",
    "                    user = user,\n",
    "                    password = pwd,\n",
    "                    host = host,\n",
    "                    port = port,\n",
    "                    database = database\n",
    "            )"
   ]
  },
  {
   "cell_type": "code",
   "execution_count": 14,
   "id": "4e0158b8",
   "metadata": {
    "ExecuteTime": {
     "end_time": "2023-03-05T01:37:25.064680Z",
     "start_time": "2023-03-05T01:37:24.770194Z"
    }
   },
   "outputs": [],
   "source": [
    "#psycopg precisa de um cursor e .execute, ele não retorna dados\n",
    "cursor = conn.cursor()\n",
    "\n",
    "query_schema =  \"\"\"\n",
    "                SELECT nspname\n",
    "                FROM pg_catalog.pg_namespace \n",
    "                \n",
    "               \"\"\"\n",
    "cursor.execute( query_schema )\n",
    "\n",
    "#para trazer os dados precisamos do fecth all\n",
    "record = cursor.fetchall()\n",
    "#sempre fechar a conexão do banco de dados pois há limite de portas\n",
    "cursor.close()\n",
    "conn.close()"
   ]
  },
  {
   "cell_type": "code",
   "execution_count": 12,
   "id": "e52d1b58",
   "metadata": {
    "ExecuteTime": {
     "end_time": "2023-03-05T01:25:58.283993Z",
     "start_time": "2023-03-05T01:25:57.898328Z"
    }
   },
   "outputs": [
    {
     "name": "stdout",
     "output_type": "stream",
     "text": [
      "[('users',), ('vehicle',), ('insurance',)]\n"
     ]
    }
   ],
   "source": [
    "cursor = conn.cursor()\n",
    "\n",
    "query_tables =  \"\"\"\n",
    "                SELECT tablename\n",
    "                FROM pg_tables\n",
    "                WHERE schemaname = 'pa004'\n",
    "                \n",
    "               \"\"\"\n",
    "cursor.execute( query_tables )\n",
    "\n",
    "record = cursor.fetchall()\n",
    "print( record )\n",
    "\n",
    "cursor.close()\n",
    "conn.close()"
   ]
  },
  {
   "cell_type": "code",
   "execution_count": 19,
   "id": "24651181",
   "metadata": {
    "ExecuteTime": {
     "end_time": "2023-03-05T01:38:54.834117Z",
     "start_time": "2023-03-05T01:38:54.806968Z"
    },
    "scrolled": true
   },
   "outputs": [
    {
     "ename": "InterfaceError",
     "evalue": "connection already closed",
     "output_type": "error",
     "traceback": [
      "\u001b[0;31m---------------------------------------------------------------------------\u001b[0m",
      "\u001b[0;31mInterfaceError\u001b[0m                            Traceback (most recent call last)",
      "Cell \u001b[0;32mIn[19], line 1\u001b[0m\n\u001b[0;32m----> 1\u001b[0m cursor \u001b[38;5;241m=\u001b[39m \u001b[43mconn\u001b[49m\u001b[38;5;241;43m.\u001b[39;49m\u001b[43mcursor\u001b[49m\u001b[43m(\u001b[49m\u001b[43m)\u001b[49m\n\u001b[1;32m      3\u001b[0m query_table_users \u001b[38;5;241m=\u001b[39m  \u001b[38;5;124m\"\"\"\u001b[39m\n\u001b[1;32m      4\u001b[0m \u001b[38;5;124m                SELECT *\u001b[39m\n\u001b[1;32m      5\u001b[0m \u001b[38;5;124m                FROM pa004.users u\u001b[39m\n\u001b[0;32m   (...)\u001b[0m\n\u001b[1;32m      8\u001b[0m \u001b[38;5;124m                \u001b[39m\n\u001b[1;32m      9\u001b[0m \u001b[38;5;124m               \u001b[39m\u001b[38;5;124m\"\"\"\u001b[39m\n\u001b[1;32m     10\u001b[0m cursor\u001b[38;5;241m.\u001b[39mexecute( query_table_users )\n",
      "\u001b[0;31mInterfaceError\u001b[0m: connection already closed"
     ]
    }
   ],
   "source": [
    "cursor = conn.cursor()\n",
    "\n",
    "query_table_users =  \"\"\"\n",
    "                SELECT *\n",
    "                FROM pa004.users u\n",
    "                WHERE u.age > 44 \n",
    "                limit 10\n",
    "                \n",
    "               \"\"\"\n",
    "cursor.execute( query_table_users )\n",
    "\n",
    "record = cursor.fetchall()\n",
    "print( record )\n",
    "\n",
    "cursor.close()\n",
    "conn.close()"
   ]
  },
  {
   "cell_type": "code",
   "execution_count": 20,
   "id": "0247f8e9",
   "metadata": {
    "ExecuteTime": {
     "end_time": "2023-03-05T01:39:01.372099Z",
     "start_time": "2023-03-05T01:39:01.342510Z"
    },
    "scrolled": true
   },
   "outputs": [
    {
     "data": {
      "text/html": [
       "<div>\n",
       "<style scoped>\n",
       "    .dataframe tbody tr th:only-of-type {\n",
       "        vertical-align: middle;\n",
       "    }\n",
       "\n",
       "    .dataframe tbody tr th {\n",
       "        vertical-align: top;\n",
       "    }\n",
       "\n",
       "    .dataframe thead th {\n",
       "        text-align: right;\n",
       "    }\n",
       "</style>\n",
       "<table border=\"1\" class=\"dataframe\">\n",
       "  <thead>\n",
       "    <tr style=\"text-align: right;\">\n",
       "      <th></th>\n",
       "      <th>0</th>\n",
       "      <th>1</th>\n",
       "      <th>2</th>\n",
       "      <th>3</th>\n",
       "      <th>4</th>\n",
       "    </tr>\n",
       "  </thead>\n",
       "  <tbody>\n",
       "    <tr>\n",
       "      <th>0</th>\n",
       "      <td>2</td>\n",
       "      <td>Male</td>\n",
       "      <td>76</td>\n",
       "      <td>3.0</td>\n",
       "      <td>26.0</td>\n",
       "    </tr>\n",
       "    <tr>\n",
       "      <th>1</th>\n",
       "      <td>3</td>\n",
       "      <td>Male</td>\n",
       "      <td>47</td>\n",
       "      <td>28.0</td>\n",
       "      <td>26.0</td>\n",
       "    </tr>\n",
       "    <tr>\n",
       "      <th>2</th>\n",
       "      <td>8</td>\n",
       "      <td>Female</td>\n",
       "      <td>56</td>\n",
       "      <td>28.0</td>\n",
       "      <td>26.0</td>\n",
       "    </tr>\n",
       "    <tr>\n",
       "      <th>3</th>\n",
       "      <td>11</td>\n",
       "      <td>Female</td>\n",
       "      <td>47</td>\n",
       "      <td>35.0</td>\n",
       "      <td>124.0</td>\n",
       "    </tr>\n",
       "    <tr>\n",
       "      <th>4</th>\n",
       "      <td>14</td>\n",
       "      <td>Male</td>\n",
       "      <td>76</td>\n",
       "      <td>28.0</td>\n",
       "      <td>13.0</td>\n",
       "    </tr>\n",
       "    <tr>\n",
       "      <th>5</th>\n",
       "      <td>15</td>\n",
       "      <td>Male</td>\n",
       "      <td>71</td>\n",
       "      <td>28.0</td>\n",
       "      <td>30.0</td>\n",
       "    </tr>\n",
       "    <tr>\n",
       "      <th>6</th>\n",
       "      <td>20</td>\n",
       "      <td>Female</td>\n",
       "      <td>60</td>\n",
       "      <td>33.0</td>\n",
       "      <td>124.0</td>\n",
       "    </tr>\n",
       "    <tr>\n",
       "      <th>7</th>\n",
       "      <td>21</td>\n",
       "      <td>Male</td>\n",
       "      <td>65</td>\n",
       "      <td>28.0</td>\n",
       "      <td>124.0</td>\n",
       "    </tr>\n",
       "    <tr>\n",
       "      <th>8</th>\n",
       "      <td>22</td>\n",
       "      <td>Male</td>\n",
       "      <td>49</td>\n",
       "      <td>28.0</td>\n",
       "      <td>124.0</td>\n",
       "    </tr>\n",
       "    <tr>\n",
       "      <th>9</th>\n",
       "      <td>27</td>\n",
       "      <td>Female</td>\n",
       "      <td>51</td>\n",
       "      <td>28.0</td>\n",
       "      <td>124.0</td>\n",
       "    </tr>\n",
       "  </tbody>\n",
       "</table>\n",
       "</div>"
      ],
      "text/plain": [
       "    0       1   2     3      4\n",
       "0   2    Male  76   3.0   26.0\n",
       "1   3    Male  47  28.0   26.0\n",
       "2   8  Female  56  28.0   26.0\n",
       "3  11  Female  47  35.0  124.0\n",
       "4  14    Male  76  28.0   13.0\n",
       "5  15    Male  71  28.0   30.0\n",
       "6  20  Female  60  33.0  124.0\n",
       "7  21    Male  65  28.0  124.0\n",
       "8  22    Male  49  28.0  124.0\n",
       "9  27  Female  51  28.0  124.0"
      ]
     },
     "execution_count": 20,
     "metadata": {},
     "output_type": "execute_result"
    }
   ],
   "source": [
    "pd.DataFrame( record )"
   ]
  },
  {
   "cell_type": "code",
   "execution_count": 5,
   "id": "93a9ec44",
   "metadata": {
    "ExecuteTime": {
     "end_time": "2023-03-07T15:02:43.569132Z",
     "start_time": "2023-03-07T15:02:34.058122Z"
    }
   },
   "outputs": [],
   "source": [
    "import pandas.io.sql as psql\n",
    "\n",
    "query_table_users =  \"\"\"\n",
    "                SELECT *\n",
    "                FROM pa004.users u LEFT JOIN pa004.vehicle v ON ( u.id = v.id )\n",
    "                                   LEFT JOIN pa004.insurance i ON ( u.id = i.id )\n",
    "                WHERE u.age > 44 \n",
    "                                \n",
    "               \"\"\"\n",
    "df = psql.read_sql( query_table_users, conn )"
   ]
  },
  {
   "cell_type": "code",
   "execution_count": null,
   "id": "1aeea7a4",
   "metadata": {
    "ExecuteTime": {
     "start_time": "2023-03-07T15:03:08.921Z"
    }
   },
   "outputs": [],
   "source": [
    "#este é o método mais usado\n",
    "df1 = pd.read_sql( query_table_users, conn )\n",
    "df1 = df1.drop( df1.columns[[5, 9]], axis=1 )\n",
    "df1.shape"
   ]
  },
  {
   "cell_type": "code",
   "execution_count": null,
   "id": "22905f65",
   "metadata": {},
   "outputs": [],
   "source": []
  }
 ],
 "metadata": {
  "hide_input": false,
  "kernelspec": {
   "display_name": "Python 3 (ipykernel)",
   "language": "python",
   "name": "python3"
  },
  "language_info": {
   "codemirror_mode": {
    "name": "ipython",
    "version": 3
   },
   "file_extension": ".py",
   "mimetype": "text/x-python",
   "name": "python",
   "nbconvert_exporter": "python",
   "pygments_lexer": "ipython3",
   "version": "3.10.6"
  }
 },
 "nbformat": 4,
 "nbformat_minor": 5
}
